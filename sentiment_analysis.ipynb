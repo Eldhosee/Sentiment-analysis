{
  "nbformat": 4,
  "nbformat_minor": 0,
  "metadata": {
    "colab": {
      "provenance": [],
      "authorship_tag": "ABX9TyNKJFKCx4xqdWKaQabtgHMU",
      "include_colab_link": true
    },
    "kernelspec": {
      "name": "python3",
      "display_name": "Python 3"
    },
    "language_info": {
      "name": "python"
    }
  },
  "cells": [
    {
      "cell_type": "markdown",
      "metadata": {
        "id": "view-in-github",
        "colab_type": "text"
      },
      "source": [
        "<a href=\"https://colab.research.google.com/github/Eldhosee/Sentiment-analysis/blob/main/sentiment_analysis.ipynb\" target=\"_parent\"><img src=\"https://colab.research.google.com/assets/colab-badge.svg\" alt=\"Open In Colab\"/></a>"
      ]
    },
    {
      "cell_type": "code",
      "execution_count": 1,
      "metadata": {
        "id": "fNHXKFheLgsx"
      },
      "outputs": [],
      "source": [
        "import pandas as pd\n",
        "import matplotlib.pyplot as plt\n",
        "from nltk.sentiment import SentimentIntensityAnalyzer\n",
        "import nltk\n"
      ]
    },
    {
      "cell_type": "code",
      "source": [
        "pip install unidecode\n"
      ],
      "metadata": {
        "colab": {
          "base_uri": "https://localhost:8080/"
        },
        "id": "Nsz38CqiMdlZ",
        "outputId": "043d6a30-679a-4b38-ee5a-fa77301b28e6"
      },
      "execution_count": 2,
      "outputs": [
        {
          "output_type": "stream",
          "name": "stdout",
          "text": [
            "Collecting unidecode\n",
            "  Downloading Unidecode-1.3.8-py3-none-any.whl (235 kB)\n",
            "\u001b[2K     \u001b[90m━━━━━━━━━━━━━━━━━━━━━━━━━━━━━━━━━━━━━━━━\u001b[0m \u001b[32m235.5/235.5 kB\u001b[0m \u001b[31m4.5 MB/s\u001b[0m eta \u001b[36m0:00:00\u001b[0m\n",
            "\u001b[?25hInstalling collected packages: unidecode\n",
            "Successfully installed unidecode-1.3.8\n"
          ]
        }
      ]
    },
    {
      "cell_type": "code",
      "source": [
        "import unidecode\n"
      ],
      "metadata": {
        "id": "oy2q-ng0MqBk"
      },
      "execution_count": 3,
      "outputs": []
    },
    {
      "cell_type": "code",
      "source": [
        "nltk.download('vader_lexicon')"
      ],
      "metadata": {
        "colab": {
          "base_uri": "https://localhost:8080/"
        },
        "id": "iBxQOb6CMui1",
        "outputId": "4fc641f1-38f5-48e8-eafd-9cadf5db1519"
      },
      "execution_count": 4,
      "outputs": [
        {
          "output_type": "stream",
          "name": "stderr",
          "text": [
            "[nltk_data] Downloading package vader_lexicon to /root/nltk_data...\n"
          ]
        },
        {
          "output_type": "execute_result",
          "data": {
            "text/plain": [
              "True"
            ]
          },
          "metadata": {},
          "execution_count": 4
        }
      ]
    },
    {
      "cell_type": "code",
      "source": [
        "data = pd.read_excel('user_review.xls')\n",
        "print(data.head(10))"
      ],
      "metadata": {
        "colab": {
          "base_uri": "https://localhost:8080/"
        },
        "id": "p8iYwRK8MyBI",
        "outputId": "216da13f-993e-47b1-fee8-d91fbd71df49"
      },
      "execution_count": 21,
      "outputs": [
        {
          "output_type": "stream",
          "name": "stdout",
          "text": [
            "   id                                             review\n",
            "0   1  I love this app! It is so useful and easy to use.\n",
            "1   2  Terrible experience. The app crashes all the t...\n",
            "2   3        Decent app but needs improvement in the UI.\n",
            "3   4           Fantastic! This app has changed my life.\n",
            "4   5       The app is okay, but it lacks many features.\n",
            "5   6                Worst app ever. It is full of bugs.\n",
            "6   7  Excellent functionality and user-friendly design.\n",
            "7   8  Not bad, but there are better alternatives out...\n",
            "8   9  I'm very satisfied with this app. Highly recom...\n",
            "9  10         The app is slow and unresponsive at times.\n"
          ]
        }
      ]
    },
    {
      "cell_type": "code",
      "source": [
        "data.dropna(inplace=True)"
      ],
      "metadata": {
        "id": "k78kWqa9NAoh"
      },
      "execution_count": 22,
      "outputs": []
    },
    {
      "cell_type": "code",
      "source": [
        "import re"
      ],
      "metadata": {
        "id": "7ObMhawuNsGQ"
      },
      "execution_count": 23,
      "outputs": []
    },
    {
      "cell_type": "code",
      "source": [
        "def preprocess_text(text):\n",
        "    text = unidecode.unidecode(text)\n",
        "    text = text.lower()\n",
        "    text =  re.sub(r'[^\\w\\s]', '', text)\n",
        "    return text"
      ],
      "metadata": {
        "id": "2B56ZHaRM1dx"
      },
      "execution_count": 24,
      "outputs": []
    },
    {
      "cell_type": "code",
      "source": [
        "data['review'] = data['review'].apply(preprocess_text)\n",
        "print(data['review'])"
      ],
      "metadata": {
        "colab": {
          "base_uri": "https://localhost:8080/"
        },
        "id": "cXWuxIm7NHEI",
        "outputId": "3ba9568d-13b4-47d3-93f2-5350336b0433"
      },
      "execution_count": 25,
      "outputs": [
        {
          "output_type": "stream",
          "name": "stdout",
          "text": [
            "0       i love this app it is so useful and easy to use\n",
            "1      terrible experience the app crashes all the time\n",
            "2            decent app but needs improvement in the ui\n",
            "3                fantastic this app has changed my life\n",
            "4            the app is okay but it lacks many features\n",
            "5                     worst app ever it is full of bugs\n",
            "6       excellent functionality and userfriendly design\n",
            "7     not bad but there are better alternatives out ...\n",
            "8     im very satisfied with this app highly recomme...\n",
            "9             the app is slow and unresponsive at times\n",
            "10               good app but it could use some updates\n",
            "11    i had a bad experience the customer support is...\n",
            "12             amazing app very intuitive and efficient\n",
            "13                   its an average app nothing special\n",
            "14     ive been using this app for months and i love it\n",
            "15       disappointed the app doesnt work as advertised\n",
            "16      pretty good app but theres room for improvement\n",
            "17               i wouldnt recommend this app to anyone\n",
            "18         the app is great but it crashes occasionally\n",
            "19     very pleased with this app it meets all my needs\n",
            "20                    this app exceeded my expectations\n",
            "21             the interface is cluttered and confusing\n",
            "22                       great app but a bit overpriced\n",
            "23               very buggy needs a lot of improvements\n",
            "24                   the customer service was excellent\n",
            "25                i found this app to be very intuitive\n",
            "26                  not worth the money i want a refund\n",
            "27                         the best app in its category\n",
            "28                the latest update broke many features\n",
            "29                     highly useful for my daily tasks\n",
            "30                       i encountered frequent crashes\n",
            "31                  very satisfied with the performance\n",
            "32                       the design is sleek and modern\n",
            "33             the app is not compatible with my device\n",
            "34         i love the new features in the latest update\n",
            "35                    the app drains my battery quickly\n",
            "36                           userfriendly and efficient\n",
            "37                        too many ads make it unusable\n",
            "38                           reliable and performs well\n",
            "39              the app is okay but needs more features\n",
            "40         itaeurtms good but i had higher expectations\n",
            "41             iaeurtmve had a smooth experience so far\n",
            "42                not intuitive at all very complicated\n",
            "43                  one of the best apps iaeurtmve used\n",
            "44                    the app often freezes and crashes\n",
            "45                             helpful customer support\n",
            "46           the app doesnaeurtmt have enough tutorials\n",
            "47                fantastic performance and reliability\n",
            "48                    i wouldnaeurtmt use any other app\n",
            "49                        the app could use a dark mode\n",
            "Name: review, dtype: object\n"
          ]
        }
      ]
    },
    {
      "cell_type": "code",
      "source": [
        "sid = SentimentIntensityAnalyzer()"
      ],
      "metadata": {
        "id": "4qbx9smfvWpS"
      },
      "execution_count": 26,
      "outputs": []
    },
    {
      "cell_type": "code",
      "source": [
        "def analyze_sentiment(review):\n",
        "    score = sid.polarity_scores(review)['compound']\n",
        "    if score >= 0.05:\n",
        "        return 'Positive'\n",
        "    elif score <= -0.05:\n",
        "        return 'Negative'\n",
        "    else:\n",
        "        return 'Neutral'"
      ],
      "metadata": {
        "id": "40rIka9rvaBh"
      },
      "execution_count": 27,
      "outputs": []
    },
    {
      "cell_type": "code",
      "source": [
        "data['sentiment'] = data['review'].apply(analyze_sentiment)\n",
        "print(data['sentiment'])\n",
        "sentiment_counts = data['sentiment'].value_counts()"
      ],
      "metadata": {
        "colab": {
          "base_uri": "https://localhost:8080/"
        },
        "id": "2YnSa_l3vdmR",
        "outputId": "daf967e5-188d-4f37-f5d9-4f5080f2b66d"
      },
      "execution_count": 30,
      "outputs": [
        {
          "output_type": "stream",
          "name": "stdout",
          "text": [
            "0     Positive\n",
            "1     Negative\n",
            "2     Positive\n",
            "3     Positive\n",
            "4     Positive\n",
            "5     Negative\n",
            "6     Positive\n",
            "7     Positive\n",
            "8     Positive\n",
            "9      Neutral\n",
            "10    Positive\n",
            "11    Negative\n",
            "12    Positive\n",
            "13    Negative\n",
            "14    Positive\n",
            "15    Negative\n",
            "16    Positive\n",
            "17    Negative\n",
            "18    Positive\n",
            "19    Positive\n",
            "20     Neutral\n",
            "21    Negative\n",
            "22    Positive\n",
            "23    Positive\n",
            "24    Positive\n",
            "25     Neutral\n",
            "26    Negative\n",
            "27    Positive\n",
            "28    Negative\n",
            "29    Positive\n",
            "30     Neutral\n",
            "31    Positive\n",
            "32     Neutral\n",
            "33     Neutral\n",
            "34    Positive\n",
            "35     Neutral\n",
            "36    Positive\n",
            "37     Neutral\n",
            "38    Positive\n",
            "39    Positive\n",
            "40    Positive\n",
            "41     Neutral\n",
            "42     Neutral\n",
            "43    Positive\n",
            "44     Neutral\n",
            "45    Positive\n",
            "46     Neutral\n",
            "47    Positive\n",
            "48     Neutral\n",
            "49     Neutral\n",
            "Name: sentiment, dtype: object\n"
          ]
        }
      ]
    },
    {
      "cell_type": "code",
      "source": [
        "summary_report = f\"\"\"\n",
        "Summary Report:\n",
        "Total Reviews: {len(data)}\n",
        "Positive Reviews: {sentiment_counts.get('Positive', 0)}\n",
        "Negative Reviews: {sentiment_counts.get('Negative', 0)}\n",
        "Neutral Reviews: {sentiment_counts.get('Neutral', 0)}\n",
        "\"\"\"\n",
        "print(summary_report)"
      ],
      "metadata": {
        "colab": {
          "base_uri": "https://localhost:8080/"
        },
        "id": "4xv96J9pvyi7",
        "outputId": "a7c476fe-f114-4781-9c00-c759858b818b"
      },
      "execution_count": 31,
      "outputs": [
        {
          "output_type": "stream",
          "name": "stdout",
          "text": [
            "\n",
            "Summary Report:\n",
            "Total Reviews: 50\n",
            "Positive Reviews: 27\n",
            "Negative Reviews: 9\n",
            "Neutral Reviews: 14\n",
            "\n"
          ]
        }
      ]
    },
    {
      "cell_type": "code",
      "source": [
        "plt.figure(figsize=(8, 6))\n",
        "plt.bar(sentiment_counts.index, sentiment_counts.values, color=['green', 'blue', 'red'])\n",
        "plt.xlabel('Sentiment')\n",
        "plt.ylabel('Number of Reviews')\n",
        "plt.title('Sentiment Distribution of User Reviews')\n",
        "plt.show()"
      ],
      "metadata": {
        "colab": {
          "base_uri": "https://localhost:8080/",
          "height": 564
        },
        "id": "Me3gN_ozv4eV",
        "outputId": "04bb9aa9-bbe2-440c-cb07-baff8e3a0dd0"
      },
      "execution_count": 32,
      "outputs": [
        {
          "output_type": "display_data",
          "data": {
            "text/plain": [
              "<Figure size 800x600 with 1 Axes>"
            ],
            "image/png": "[encoded data removed]"
          },
          "metadata": {}
        }
      ]
    },
    {
      "cell_type": "code",
      "source": [
        "with open('summary_report.md', 'w') as file:\n",
        "    file.write(summary_report)"
      ],
      "metadata": {
        "id": "c5ybaCzQwAzX"
      },
      "execution_count": 33,
      "outputs": []
    }
  ]
}